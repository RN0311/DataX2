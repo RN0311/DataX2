{
 "cells": [
  {
   "cell_type": "code",
   "execution_count": 4,
   "metadata": {},
   "outputs": [],
   "source": [
    "import speech_recognition as sr\n",
    "from tqdm import tqdm"
   ]
  },
  {
   "cell_type": "code",
   "execution_count": 9,
   "metadata": {},
   "outputs": [
    {
     "name": "stdout",
     "output_type": "stream",
     "text": [
      "The audio file contains: \n",
      "speech recognition Google Cloud speech to text enable 12 developers to convert audio to text by applying for neural network models in easy to use API they appear recognises 120 languages and variance to support your Global use a place you can enable voice command and control transcribe audio from Call Centres and more it can process real time streaming or pre recorded audio using Google machine learning Technology\n"
     ]
    }
   ],
   "source": [
    "AUDIO_FILE = (\"testing.wav\") \n",
    "r = sr.Recognizer() \n",
    "  \n",
    "with sr.AudioFile(AUDIO_FILE) as source: \n",
    "    audio = r.record(source)   \n",
    "try: \n",
    "    print(\"The audio file contains: \\n\" + r.recognize_google(audio)) \n",
    "except sr.UnknownValueError: \n",
    "    print(\"Google Speech Recognition could not understand audio\") \n",
    "except sr.RequestError as e: \n",
    "    print(\"Could not request results from Google Speech Recognition service; {0}\".format(e)) "
   ]
  },
  {
   "cell_type": "code",
   "execution_count": null,
   "metadata": {},
   "outputs": [],
   "source": []
  }
 ],
 "metadata": {
  "kernelspec": {
   "display_name": "Python 3",
   "language": "python",
   "name": "python3"
  },
  "language_info": {
   "codemirror_mode": {
    "name": "ipython",
    "version": 3
   },
   "file_extension": ".py",
   "mimetype": "text/x-python",
   "name": "python",
   "nbconvert_exporter": "python",
   "pygments_lexer": "ipython3",
   "version": "3.7.3"
  }
 },
 "nbformat": 4,
 "nbformat_minor": 4
}
